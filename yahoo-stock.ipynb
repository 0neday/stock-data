{
 "cells": [
  {
   "cell_type": "markdown",
   "metadata": {},
   "source": [
    "## 从雅虎财经网站获取股票数据"
   ]
  },
  {
   "cell_type": "code",
   "execution_count": 18,
   "metadata": {
    "collapsed": true
   },
   "outputs": [],
   "source": [
    "import urllib\n",
    "import os\n",
    "import datetime\n",
    "import pandas as pd\n"
   ]
  },
  {
   "cell_type": "code",
   "execution_count": 10,
   "metadata": {
    "collapsed": false
   },
   "outputs": [],
   "source": [
    "# 下载整个股票数据\n",
    "def retrive_stock_data(stockid, postfix, folder):\n",
    "    print('downloading %s.%s to %s' % (stockid, postfix, folder))\n",
    "    url = 'http://table.finance.yahoo.com/table.csv?s=%s.%s' % (stockid, postfix)\n",
    "    fname = os.path.join(folder, '%s.csv' % stockid)\n",
    "    if not os.path.isdir(folder):\n",
    "        os.mkdir(folder)\n",
    "    urllib.urlretrieve(url, fname)"
   ]
  },
  {
   "cell_type": "code",
   "execution_count": 11,
   "metadata": {
    "collapsed": false
   },
   "outputs": [
    {
     "name": "stdout",
     "output_type": "stream",
     "text": [
      "downloading 600690.ss to yahoo-data\n"
     ]
    }
   ],
   "source": [
    "retrive_stock_data(600690, 'ss', 'yahoo-data')"
   ]
  },
  {
   "cell_type": "code",
   "execution_count": 56,
   "metadata": {
    "collapsed": false
   },
   "outputs": [],
   "source": [
    "# 更新股票数据，如果不存在，则下载。如果存在，则只更新最近日期的数据\n",
    "def update_stock_data(stockid, postfix, folder):\n",
    "    fname = os.path.join(folder, '%s.csv' % stockid)\n",
    "    if not os.path.exists(fname):\n",
    "        retrive_stock_data(stockid, postfix, folder)\n",
    "        return\n",
    "    \n",
    "    data = pd.read_csv(fname, index_col='Date', parse_dates=True)\n",
    "    \n",
    "    last_date = data.iloc[0:1].index.tolist()[0]\n",
    "    today = pd.Timestamp(datetime.date.today())\n",
    "    if today - last_date < pd.Timedelta(days=1) or \\\n",
    "        (today - last_date == pd.Timedelta(days=1) and datetime.time().hour < 15):\n",
    "        print('Nothing to update. %s.%s last date is %s.' % (stockid, postfix, last_date))\n",
    "        return\n",
    "    \n",
    "    print('updatting %s.%s to from %s to %s' % (stockid, postfix, last_date, today))\n",
    "    url = 'http://table.finance.yahoo.com/table.csv?a=%s&b=%s&c=%s&d=%s&e=%s&f=%s&s=%s.%s' \\\n",
    "            % (last_date.month - 1, last_date.day, last_date.year, \n",
    "               today.month - 1, today.day, today.year, stockid, postfix)\n",
    "    temp_file = fname + '.tmp'\n",
    "    urllib.urlretrieve(url, temp_file)\n",
    "    update_data = pd.read_csv(temp_file, index_col='Date', parse_dates=True)\n",
    "    data = data.append(update_data)\n",
    "    data.to_csv(fname, mode='w')"
   ]
  },
  {
   "cell_type": "code",
   "execution_count": 57,
   "metadata": {
    "collapsed": false
   },
   "outputs": [
    {
     "name": "stdout",
     "output_type": "stream",
     "text": [
      "updatting 600690.ss to from 2015-11-18 00:00:00 to 2015-11-26 00:00:00\n",
      "http://table.finance.yahoo.com/table.csv?a=10&b=18&c=2015&d=10&e=26&f=2015&s=600690.ss\n",
      "yahoo-data/600690.csv.tmp\n",
      "5\n",
      "5715\n",
      "5720\n"
     ]
    }
   ],
   "source": [
    "update_stock_data(600690, 'ss', 'yahoo-data')"
   ]
  },
  {
   "cell_type": "code",
   "execution_count": 38,
   "metadata": {
    "collapsed": true
   },
   "outputs": [],
   "source": [
    "pd.DataFrame.append?"
   ]
  }
 ],
 "metadata": {
  "kernelspec": {
   "display_name": "Python 2",
   "language": "python",
   "name": "python2"
  },
  "language_info": {
   "codemirror_mode": {
    "name": "ipython",
    "version": 2
   },
   "file_extension": ".py",
   "mimetype": "text/x-python",
   "name": "python",
   "nbconvert_exporter": "python",
   "pygments_lexer": "ipython2",
   "version": "2.7.10"
  }
 },
 "nbformat": 4,
 "nbformat_minor": 0
}
