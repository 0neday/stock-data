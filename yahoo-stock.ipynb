{
 "cells": [
  {
   "cell_type": "markdown",
   "metadata": {},
   "source": [
    "## 从雅虎财经网站获取股票数据"
   ]
  },
  {
   "cell_type": "code",
   "execution_count": 20,
   "metadata": {
    "collapsed": true
   },
   "outputs": [],
   "source": [
    "import urllib\n",
    "import os\n",
    "import datetime\n",
    "import pandas as pd\n"
   ]
  },
  {
   "cell_type": "code",
   "execution_count": 21,
   "metadata": {
    "collapsed": false
   },
   "outputs": [],
   "source": [
    "# 下载整个股票数据\n",
    "def retrive_stock_data(stockid, folder):\n",
    "    print('downloading %s to %s' % (stockid, folder))\n",
    "    url = 'http://table.finance.yahoo.com/table.csv?s=%s' % (stockid)\n",
    "    fname = os.path.join(folder, '%s.csv' % stockid.split('.')[0])\n",
    "    if not os.path.isdir(folder):\n",
    "        os.mkdir(folder)\n",
    "    urllib.urlretrieve(url, fname)"
   ]
  },
  {
   "cell_type": "code",
   "execution_count": 24,
   "metadata": {
    "collapsed": false
   },
   "outputs": [
    {
     "name": "stdout",
     "output_type": "stream",
     "text": [
      "downloading 600690.ss to yahoo-data\n"
     ]
    }
   ],
   "source": [
    "retrive_stock_data('600690.ss', 'yahoo-data')"
   ]
  },
  {
   "cell_type": "code",
   "execution_count": 35,
   "metadata": {
    "collapsed": false
   },
   "outputs": [],
   "source": [
    "# 更新股票数据，如果不存在，则下载。如果存在，则只更新最近日期的数据\n",
    "def update_stock_data(stockid, folder):\n",
    "    fname = os.path.join(folder, '%s.csv' % stockid.split('.')[0])\n",
    "    if not os.path.exists(fname):\n",
    "        retrive_stock_data(stockid, folder)\n",
    "        return\n",
    "    \n",
    "    data = pd.read_csv(fname, index_col='Date', parse_dates=True)\n",
    "    \n",
    "    last_date = data.iloc[0:1].index.tolist()[0]\n",
    "    today = pd.Timestamp(datetime.date.today())\n",
    "    if today - last_date < pd.Timedelta(days=2):\n",
    "        print('Nothing to update. %s last date is %s.' % (stockid, last_date))\n",
    "        return\n",
    "    \n",
    "    print('updatting %s to from %s to %s' % (stockid, last_date.date(), today.date()))\n",
    "    query = [\n",
    "        ('a', last_date.month - 1),\n",
    "        ('b', last_date.day),\n",
    "        ('c', last_date.year),\n",
    "        ('d', today.month - 1),\n",
    "        ('e', today.day),\n",
    "        ('f', today.year),\n",
    "        ('s', stockid),\n",
    "    ]\n",
    "    url = 'http://table.finance.yahoo.com/table.csv?%s' % urllib.urlencode(query)\n",
    "    temp_file = fname + '.tmp'\n",
    "    urllib.urlretrieve(url, temp_file)\n",
    "    update_data = pd.read_csv(temp_file, index_col='Date', parse_dates=True)\n",
    "    data = data.append(update_data)\n",
    "    data.sort_index(ascending=False, inplace=True)\n",
    "    data.to_csv(fname, mode='w')\n",
    "    os.unlink(temp_file)"
   ]
  },
  {
   "cell_type": "code",
   "execution_count": 36,
   "metadata": {
    "collapsed": false
   },
   "outputs": [
    {
     "name": "stdout",
     "output_type": "stream",
     "text": [
      "updatting 600690.ss to from 2015-10-27 to 2015-11-26\n"
     ]
    }
   ],
   "source": [
    "update_stock_data('600690.ss', 'yahoo-data')"
   ]
  },
  {
   "cell_type": "code",
   "execution_count": 19,
   "metadata": {
    "collapsed": false
   },
   "outputs": [
    {
     "data": {
      "text/plain": [
       "'a=10&b=5&c=2015&d=10&e=25&f=2015&s=600690.ss'"
      ]
     },
     "execution_count": 19,
     "metadata": {},
     "output_type": "execute_result"
    }
   ],
   "source": [
    "query = [('a', 10), ('b', 5), ('c', 2015), ('d', 10), ('e', 25), ('f', 2015), ('s', '600690.ss')]\n",
    "urllib.urlencode(query)"
   ]
  }
 ],
 "metadata": {
  "kernelspec": {
   "display_name": "Python 2",
   "language": "python",
   "name": "python2"
  },
  "language_info": {
   "codemirror_mode": {
    "name": "ipython",
    "version": 2
   },
   "file_extension": ".py",
   "mimetype": "text/x-python",
   "name": "python",
   "nbconvert_exporter": "python",
   "pygments_lexer": "ipython2",
   "version": "2.7.10"
  }
 },
 "nbformat": 4,
 "nbformat_minor": 0
}
