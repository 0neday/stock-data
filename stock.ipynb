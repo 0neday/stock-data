{
 "cells": [
  {
   "cell_type": "code",
   "execution_count": 28,
   "metadata": {
    "collapsed": false
   },
   "outputs": [
    {
     "data": {
      "text/plain": [
       "u'C:\\\\Users\\\\Joey-YongChang.Huang@cn.abb.com\\\\kamidox\\\\work\\\\stock-data-raw'"
      ]
     },
     "execution_count": 28,
     "metadata": {},
     "output_type": "execute_result"
    }
   ],
   "source": [
    "%pwd"
   ]
  },
  {
   "cell_type": "code",
   "execution_count": 29,
   "metadata": {
    "collapsed": false
   },
   "outputs": [],
   "source": [
    "import pandas as pd\n",
    "import numpy as np"
   ]
  },
  {
   "cell_type": "code",
   "execution_count": 30,
   "metadata": {
    "collapsed": false
   },
   "outputs": [],
   "source": [
    "d = pd.read_csv('2008/SH600300.csv', names=['date','time','opening_price', 'ceiling_price', 'floor_price', 'closing_price', 'volume', 'amount'], header=None)"
   ]
  },
  {
   "cell_type": "code",
   "execution_count": 31,
   "metadata": {
    "collapsed": false
   },
   "outputs": [
    {
     "data": {
      "text/html": [
       "<div>\n",
       "<table border=\"1\" class=\"dataframe\">\n",
       "  <thead>\n",
       "    <tr style=\"text-align: right;\">\n",
       "      <th></th>\n",
       "      <th>date</th>\n",
       "      <th>time</th>\n",
       "      <th>opening_price</th>\n",
       "      <th>ceiling_price</th>\n",
       "      <th>floor_price</th>\n",
       "      <th>closing_price</th>\n",
       "      <th>volume</th>\n",
       "      <th>amount</th>\n",
       "    </tr>\n",
       "  </thead>\n",
       "  <tbody>\n",
       "    <tr>\n",
       "      <th>0</th>\n",
       "      <td>2008/01/02</td>\n",
       "      <td>09:35</td>\n",
       "      <td>9.89</td>\n",
       "      <td>9.90</td>\n",
       "      <td>9.76</td>\n",
       "      <td>9.77</td>\n",
       "      <td>3223.00</td>\n",
       "      <td>3174676</td>\n",
       "    </tr>\n",
       "    <tr>\n",
       "      <th>1</th>\n",
       "      <td>2008/01/02</td>\n",
       "      <td>09:40</td>\n",
       "      <td>9.77</td>\n",
       "      <td>9.84</td>\n",
       "      <td>9.75</td>\n",
       "      <td>9.79</td>\n",
       "      <td>2037.50</td>\n",
       "      <td>1992715</td>\n",
       "    </tr>\n",
       "    <tr>\n",
       "      <th>2</th>\n",
       "      <td>2008/01/02</td>\n",
       "      <td>09:45</td>\n",
       "      <td>9.78</td>\n",
       "      <td>9.82</td>\n",
       "      <td>9.78</td>\n",
       "      <td>9.79</td>\n",
       "      <td>1227.99</td>\n",
       "      <td>1203187</td>\n",
       "    </tr>\n",
       "    <tr>\n",
       "      <th>3</th>\n",
       "      <td>2008/01/02</td>\n",
       "      <td>09:50</td>\n",
       "      <td>9.80</td>\n",
       "      <td>9.85</td>\n",
       "      <td>9.79</td>\n",
       "      <td>9.85</td>\n",
       "      <td>1137.00</td>\n",
       "      <td>1115308</td>\n",
       "    </tr>\n",
       "    <tr>\n",
       "      <th>4</th>\n",
       "      <td>2008/01/02</td>\n",
       "      <td>09:55</td>\n",
       "      <td>9.84</td>\n",
       "      <td>9.95</td>\n",
       "      <td>9.84</td>\n",
       "      <td>9.94</td>\n",
       "      <td>1422.97</td>\n",
       "      <td>1405492</td>\n",
       "    </tr>\n",
       "  </tbody>\n",
       "</table>\n",
       "</div>"
      ],
      "text/plain": [
       "         date   time  opening_price  ceiling_price  floor_price  \\\n",
       "0  2008/01/02  09:35           9.89           9.90         9.76   \n",
       "1  2008/01/02  09:40           9.77           9.84         9.75   \n",
       "2  2008/01/02  09:45           9.78           9.82         9.78   \n",
       "3  2008/01/02  09:50           9.80           9.85         9.79   \n",
       "4  2008/01/02  09:55           9.84           9.95         9.84   \n",
       "\n",
       "   closing_price   volume   amount  \n",
       "0           9.77  3223.00  3174676  \n",
       "1           9.79  2037.50  1992715  \n",
       "2           9.79  1227.99  1203187  \n",
       "3           9.85  1137.00  1115308  \n",
       "4           9.94  1422.97  1405492  "
      ]
     },
     "execution_count": 31,
     "metadata": {},
     "output_type": "execute_result"
    }
   ],
   "source": [
    "d.head()"
   ]
  },
  {
   "cell_type": "code",
   "execution_count": 32,
   "metadata": {
    "collapsed": true
   },
   "outputs": [],
   "source": [
    "g = d.groupby('date')"
   ]
  },
  {
   "cell_type": "code",
   "execution_count": 33,
   "metadata": {
    "collapsed": false
   },
   "outputs": [],
   "source": [
    "day = g.agg({'opening_price': 'first', 'ceiling_price': 'max', 'floor_price': 'min', 'closing_price': 'last', 'volume': 'sum', 'amount': 'sum'})"
   ]
  },
  {
   "cell_type": "code",
   "execution_count": 34,
   "metadata": {
    "collapsed": false
   },
   "outputs": [
    {
     "data": {
      "text/html": [
       "<div>\n",
       "<table border=\"1\" class=\"dataframe\">\n",
       "  <thead>\n",
       "    <tr style=\"text-align: right;\">\n",
       "      <th></th>\n",
       "      <th>floor_price</th>\n",
       "      <th>opening_price</th>\n",
       "      <th>ceiling_price</th>\n",
       "      <th>volume</th>\n",
       "      <th>amount</th>\n",
       "      <th>closing_price</th>\n",
       "    </tr>\n",
       "    <tr>\n",
       "      <th>date</th>\n",
       "      <th></th>\n",
       "      <th></th>\n",
       "      <th></th>\n",
       "      <th></th>\n",
       "      <th></th>\n",
       "      <th></th>\n",
       "    </tr>\n",
       "  </thead>\n",
       "  <tbody>\n",
       "    <tr>\n",
       "      <th>2008/01/02</th>\n",
       "      <td>9.75</td>\n",
       "      <td>9.89</td>\n",
       "      <td>10.31</td>\n",
       "      <td>87545.17</td>\n",
       "      <td>88759296</td>\n",
       "      <td>10.22</td>\n",
       "    </tr>\n",
       "    <tr>\n",
       "      <th>2008/01/03</th>\n",
       "      <td>10.22</td>\n",
       "      <td>10.31</td>\n",
       "      <td>10.88</td>\n",
       "      <td>151147.35</td>\n",
       "      <td>159856480</td>\n",
       "      <td>10.58</td>\n",
       "    </tr>\n",
       "    <tr>\n",
       "      <th>2008/01/04</th>\n",
       "      <td>10.28</td>\n",
       "      <td>10.58</td>\n",
       "      <td>10.76</td>\n",
       "      <td>81476.55</td>\n",
       "      <td>85745624</td>\n",
       "      <td>10.58</td>\n",
       "    </tr>\n",
       "    <tr>\n",
       "      <th>2008/01/07</th>\n",
       "      <td>10.45</td>\n",
       "      <td>10.48</td>\n",
       "      <td>11.09</td>\n",
       "      <td>130950.71</td>\n",
       "      <td>141612400</td>\n",
       "      <td>10.98</td>\n",
       "    </tr>\n",
       "    <tr>\n",
       "      <th>2008/01/08</th>\n",
       "      <td>10.30</td>\n",
       "      <td>10.95</td>\n",
       "      <td>11.00</td>\n",
       "      <td>116279.70</td>\n",
       "      <td>124193984</td>\n",
       "      <td>10.42</td>\n",
       "    </tr>\n",
       "  </tbody>\n",
       "</table>\n",
       "</div>"
      ],
      "text/plain": [
       "            floor_price  opening_price  ceiling_price     volume     amount  \\\n",
       "date                                                                          \n",
       "2008/01/02         9.75           9.89          10.31   87545.17   88759296   \n",
       "2008/01/03        10.22          10.31          10.88  151147.35  159856480   \n",
       "2008/01/04        10.28          10.58          10.76   81476.55   85745624   \n",
       "2008/01/07        10.45          10.48          11.09  130950.71  141612400   \n",
       "2008/01/08        10.30          10.95          11.00  116279.70  124193984   \n",
       "\n",
       "            closing_price  \n",
       "date                       \n",
       "2008/01/02          10.22  \n",
       "2008/01/03          10.58  \n",
       "2008/01/04          10.58  \n",
       "2008/01/07          10.98  \n",
       "2008/01/08          10.42  "
      ]
     },
     "execution_count": 34,
     "metadata": {},
     "output_type": "execute_result"
    }
   ],
   "source": [
    "day.head()"
   ]
  },
  {
   "cell_type": "code",
   "execution_count": 35,
   "metadata": {
    "collapsed": false
   },
   "outputs": [],
   "source": [
    "day.to_csv('SH600300_day.csv', mode='a')"
   ]
  },
  {
   "cell_type": "code",
   "execution_count": 39,
   "metadata": {
    "collapsed": false
   },
   "outputs": [
    {
     "data": {
      "text/plain": [
       "Index([u'amount', u'ceiling_price', u'closing_price', u'floor_price',\n",
       "       u'opening_price', u'volume'],\n",
       "      dtype='object')"
      ]
     },
     "execution_count": 39,
     "metadata": {},
     "output_type": "execute_result"
    }
   ],
   "source": [
    "day.columns.sort_values(ascending=True)"
   ]
  },
  {
   "cell_type": "code",
   "execution_count": 40,
   "metadata": {
    "collapsed": false
   },
   "outputs": [
    {
     "data": {
      "text/html": [
       "<div>\n",
       "<table border=\"1\" class=\"dataframe\">\n",
       "  <thead>\n",
       "    <tr style=\"text-align: right;\">\n",
       "      <th></th>\n",
       "      <th>floor_price</th>\n",
       "      <th>opening_price</th>\n",
       "      <th>ceiling_price</th>\n",
       "      <th>volume</th>\n",
       "      <th>amount</th>\n",
       "      <th>closing_price</th>\n",
       "    </tr>\n",
       "    <tr>\n",
       "      <th>date</th>\n",
       "      <th></th>\n",
       "      <th></th>\n",
       "      <th></th>\n",
       "      <th></th>\n",
       "      <th></th>\n",
       "      <th></th>\n",
       "    </tr>\n",
       "  </thead>\n",
       "  <tbody>\n",
       "    <tr>\n",
       "      <th>2008/01/02</th>\n",
       "      <td>9.75</td>\n",
       "      <td>9.89</td>\n",
       "      <td>10.31</td>\n",
       "      <td>87545.17</td>\n",
       "      <td>88759296</td>\n",
       "      <td>10.22</td>\n",
       "    </tr>\n",
       "    <tr>\n",
       "      <th>2008/01/03</th>\n",
       "      <td>10.22</td>\n",
       "      <td>10.31</td>\n",
       "      <td>10.88</td>\n",
       "      <td>151147.35</td>\n",
       "      <td>159856480</td>\n",
       "      <td>10.58</td>\n",
       "    </tr>\n",
       "    <tr>\n",
       "      <th>2008/01/04</th>\n",
       "      <td>10.28</td>\n",
       "      <td>10.58</td>\n",
       "      <td>10.76</td>\n",
       "      <td>81476.55</td>\n",
       "      <td>85745624</td>\n",
       "      <td>10.58</td>\n",
       "    </tr>\n",
       "    <tr>\n",
       "      <th>2008/01/07</th>\n",
       "      <td>10.45</td>\n",
       "      <td>10.48</td>\n",
       "      <td>11.09</td>\n",
       "      <td>130950.71</td>\n",
       "      <td>141612400</td>\n",
       "      <td>10.98</td>\n",
       "    </tr>\n",
       "    <tr>\n",
       "      <th>2008/01/08</th>\n",
       "      <td>10.30</td>\n",
       "      <td>10.95</td>\n",
       "      <td>11.00</td>\n",
       "      <td>116279.70</td>\n",
       "      <td>124193984</td>\n",
       "      <td>10.42</td>\n",
       "    </tr>\n",
       "  </tbody>\n",
       "</table>\n",
       "</div>"
      ],
      "text/plain": [
       "            floor_price  opening_price  ceiling_price     volume     amount  \\\n",
       "date                                                                          \n",
       "2008/01/02         9.75           9.89          10.31   87545.17   88759296   \n",
       "2008/01/03        10.22          10.31          10.88  151147.35  159856480   \n",
       "2008/01/04        10.28          10.58          10.76   81476.55   85745624   \n",
       "2008/01/07        10.45          10.48          11.09  130950.71  141612400   \n",
       "2008/01/08        10.30          10.95          11.00  116279.70  124193984   \n",
       "\n",
       "            closing_price  \n",
       "date                       \n",
       "2008/01/02          10.22  \n",
       "2008/01/03          10.58  \n",
       "2008/01/04          10.58  \n",
       "2008/01/07          10.98  \n",
       "2008/01/08          10.42  "
      ]
     },
     "execution_count": 40,
     "metadata": {},
     "output_type": "execute_result"
    }
   ],
   "source": [
    "day.head()"
   ]
  },
  {
   "cell_type": "code",
   "execution_count": null,
   "metadata": {
    "collapsed": true
   },
   "outputs": [],
   "source": []
  },
  {
   "cell_type": "code",
   "execution_count": null,
   "metadata": {
    "collapsed": true
   },
   "outputs": [],
   "source": []
  }
 ],
 "metadata": {
  "kernelspec": {
   "display_name": "Python 2",
   "language": "python",
   "name": "python2"
  },
  "language_info": {
   "codemirror_mode": {
    "name": "ipython",
    "version": 2
   },
   "file_extension": ".py",
   "mimetype": "text/x-python",
   "name": "python",
   "nbconvert_exporter": "python",
   "pygments_lexer": "ipython2",
   "version": "2.7.10"
  }
 },
 "nbformat": 4,
 "nbformat_minor": 0
}
