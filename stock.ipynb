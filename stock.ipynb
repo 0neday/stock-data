{
 "cells": [
  {
   "cell_type": "markdown",
   "metadata": {},
   "source": [
    "# 股票交易数据分析"
   ]
  },
  {
   "cell_type": "code",
   "execution_count": 1,
   "metadata": {
    "collapsed": false
   },
   "outputs": [
    {
     "data": {
      "text/plain": [
       "u'/Users/kamidox/work/stock-data'"
      ]
     },
     "execution_count": 1,
     "metadata": {},
     "output_type": "execute_result"
    }
   ],
   "source": [
    "%pwd"
   ]
  },
  {
   "cell_type": "code",
   "execution_count": 3,
   "metadata": {
    "collapsed": false
   },
   "outputs": [],
   "source": [
    "import pandas as pd\n",
    "import numpy as np"
   ]
  },
  {
   "cell_type": "markdown",
   "metadata": {},
   "source": [
    "## 原始数据: 2000 年 - 2009 年 5 分钟历史成交数据\n",
    "\n",
    "需要确保原始数据放在 raw 目录下，且每个年份单独一个目录。搜索 ghancn 可以免费下载 2009 年之前的数据。2009 年之后的需要购买。"
   ]
  },
  {
   "cell_type": "code",
   "execution_count": 5,
   "metadata": {
    "collapsed": false
   },
   "outputs": [],
   "source": [
    "d = pd.read_csv('raw/2008/SH600300.csv', names=['date','time','opening_price', 'ceiling_price', 'floor_price', 'closing_price', 'volume', 'amount'], header=None)"
   ]
  },
  {
   "cell_type": "code",
   "execution_count": 6,
   "metadata": {
    "collapsed": false
   },
   "outputs": [
    {
     "data": {
      "text/html": [
       "<div>\n",
       "<table border=\"1\" class=\"dataframe\">\n",
       "  <thead>\n",
       "    <tr style=\"text-align: right;\">\n",
       "      <th></th>\n",
       "      <th>date</th>\n",
       "      <th>time</th>\n",
       "      <th>opening_price</th>\n",
       "      <th>ceiling_price</th>\n",
       "      <th>floor_price</th>\n",
       "      <th>closing_price</th>\n",
       "      <th>volume</th>\n",
       "      <th>amount</th>\n",
       "    </tr>\n",
       "  </thead>\n",
       "  <tbody>\n",
       "    <tr>\n",
       "      <th>0</th>\n",
       "      <td>2008/01/02</td>\n",
       "      <td>09:35</td>\n",
       "      <td>9.89</td>\n",
       "      <td>9.90</td>\n",
       "      <td>9.76</td>\n",
       "      <td>9.77</td>\n",
       "      <td>3223.00</td>\n",
       "      <td>3174676</td>\n",
       "    </tr>\n",
       "    <tr>\n",
       "      <th>1</th>\n",
       "      <td>2008/01/02</td>\n",
       "      <td>09:40</td>\n",
       "      <td>9.77</td>\n",
       "      <td>9.84</td>\n",
       "      <td>9.75</td>\n",
       "      <td>9.79</td>\n",
       "      <td>2037.50</td>\n",
       "      <td>1992715</td>\n",
       "    </tr>\n",
       "    <tr>\n",
       "      <th>2</th>\n",
       "      <td>2008/01/02</td>\n",
       "      <td>09:45</td>\n",
       "      <td>9.78</td>\n",
       "      <td>9.82</td>\n",
       "      <td>9.78</td>\n",
       "      <td>9.79</td>\n",
       "      <td>1227.99</td>\n",
       "      <td>1203187</td>\n",
       "    </tr>\n",
       "    <tr>\n",
       "      <th>3</th>\n",
       "      <td>2008/01/02</td>\n",
       "      <td>09:50</td>\n",
       "      <td>9.80</td>\n",
       "      <td>9.85</td>\n",
       "      <td>9.79</td>\n",
       "      <td>9.85</td>\n",
       "      <td>1137.00</td>\n",
       "      <td>1115308</td>\n",
       "    </tr>\n",
       "    <tr>\n",
       "      <th>4</th>\n",
       "      <td>2008/01/02</td>\n",
       "      <td>09:55</td>\n",
       "      <td>9.84</td>\n",
       "      <td>9.95</td>\n",
       "      <td>9.84</td>\n",
       "      <td>9.94</td>\n",
       "      <td>1422.97</td>\n",
       "      <td>1405492</td>\n",
       "    </tr>\n",
       "  </tbody>\n",
       "</table>\n",
       "</div>"
      ],
      "text/plain": [
       "         date   time  opening_price  ceiling_price  floor_price  \\\n",
       "0  2008/01/02  09:35           9.89           9.90         9.76   \n",
       "1  2008/01/02  09:40           9.77           9.84         9.75   \n",
       "2  2008/01/02  09:45           9.78           9.82         9.78   \n",
       "3  2008/01/02  09:50           9.80           9.85         9.79   \n",
       "4  2008/01/02  09:55           9.84           9.95         9.84   \n",
       "\n",
       "   closing_price   volume   amount  \n",
       "0           9.77  3223.00  3174676  \n",
       "1           9.79  2037.50  1992715  \n",
       "2           9.79  1227.99  1203187  \n",
       "3           9.85  1137.00  1115308  \n",
       "4           9.94  1422.97  1405492  "
      ]
     },
     "execution_count": 6,
     "metadata": {},
     "output_type": "execute_result"
    }
   ],
   "source": [
    "d.head()"
   ]
  },
  {
   "cell_type": "markdown",
   "metadata": {},
   "source": [
    "### 转化为日交易数据"
   ]
  },
  {
   "cell_type": "code",
   "execution_count": 7,
   "metadata": {
    "collapsed": true
   },
   "outputs": [],
   "source": [
    "g = d.groupby('date')"
   ]
  },
  {
   "cell_type": "code",
   "execution_count": 8,
   "metadata": {
    "collapsed": false
   },
   "outputs": [],
   "source": [
    "day = g.agg({'opening_price': 'first', 'ceiling_price': 'max', 'floor_price': 'min', 'closing_price': 'last', 'volume': 'sum', 'amount': 'sum'})"
   ]
  },
  {
   "cell_type": "code",
   "execution_count": 9,
   "metadata": {
    "collapsed": false
   },
   "outputs": [
    {
     "data": {
      "text/html": [
       "<div>\n",
       "<table border=\"1\" class=\"dataframe\">\n",
       "  <thead>\n",
       "    <tr style=\"text-align: right;\">\n",
       "      <th></th>\n",
       "      <th>floor_price</th>\n",
       "      <th>opening_price</th>\n",
       "      <th>ceiling_price</th>\n",
       "      <th>volume</th>\n",
       "      <th>amount</th>\n",
       "      <th>closing_price</th>\n",
       "    </tr>\n",
       "    <tr>\n",
       "      <th>date</th>\n",
       "      <th></th>\n",
       "      <th></th>\n",
       "      <th></th>\n",
       "      <th></th>\n",
       "      <th></th>\n",
       "      <th></th>\n",
       "    </tr>\n",
       "  </thead>\n",
       "  <tbody>\n",
       "    <tr>\n",
       "      <th>2008/01/02</th>\n",
       "      <td>9.75</td>\n",
       "      <td>9.89</td>\n",
       "      <td>10.31</td>\n",
       "      <td>87545.17</td>\n",
       "      <td>88759296</td>\n",
       "      <td>10.22</td>\n",
       "    </tr>\n",
       "    <tr>\n",
       "      <th>2008/01/03</th>\n",
       "      <td>10.22</td>\n",
       "      <td>10.31</td>\n",
       "      <td>10.88</td>\n",
       "      <td>151147.35</td>\n",
       "      <td>159856480</td>\n",
       "      <td>10.58</td>\n",
       "    </tr>\n",
       "    <tr>\n",
       "      <th>2008/01/04</th>\n",
       "      <td>10.28</td>\n",
       "      <td>10.58</td>\n",
       "      <td>10.76</td>\n",
       "      <td>81476.55</td>\n",
       "      <td>85745624</td>\n",
       "      <td>10.58</td>\n",
       "    </tr>\n",
       "    <tr>\n",
       "      <th>2008/01/07</th>\n",
       "      <td>10.45</td>\n",
       "      <td>10.48</td>\n",
       "      <td>11.09</td>\n",
       "      <td>130950.71</td>\n",
       "      <td>141612400</td>\n",
       "      <td>10.98</td>\n",
       "    </tr>\n",
       "    <tr>\n",
       "      <th>2008/01/08</th>\n",
       "      <td>10.30</td>\n",
       "      <td>10.95</td>\n",
       "      <td>11.00</td>\n",
       "      <td>116279.70</td>\n",
       "      <td>124193984</td>\n",
       "      <td>10.42</td>\n",
       "    </tr>\n",
       "  </tbody>\n",
       "</table>\n",
       "</div>"
      ],
      "text/plain": [
       "            floor_price  opening_price  ceiling_price     volume     amount  \\\n",
       "date                                                                          \n",
       "2008/01/02         9.75           9.89          10.31   87545.17   88759296   \n",
       "2008/01/03        10.22          10.31          10.88  151147.35  159856480   \n",
       "2008/01/04        10.28          10.58          10.76   81476.55   85745624   \n",
       "2008/01/07        10.45          10.48          11.09  130950.71  141612400   \n",
       "2008/01/08        10.30          10.95          11.00  116279.70  124193984   \n",
       "\n",
       "            closing_price  \n",
       "date                       \n",
       "2008/01/02          10.22  \n",
       "2008/01/03          10.58  \n",
       "2008/01/04          10.58  \n",
       "2008/01/07          10.98  \n",
       "2008/01/08          10.42  "
      ]
     },
     "execution_count": 9,
     "metadata": {},
     "output_type": "execute_result"
    }
   ],
   "source": [
    "day.head()"
   ]
  },
  {
   "cell_type": "markdown",
   "metadata": {
    "collapsed": true
   },
   "source": [
    "### 合并数据\n",
    "\n",
    "可以参阅 stock.py 里的 `main()` 函数。把所有的数据转化为日交易数据，然后以股票代号为文件名保存在 `data` 目录下。"
   ]
  },
  {
   "cell_type": "markdown",
   "metadata": {},
   "source": [
    "## 选股\n",
    "\n",
    "什么股票是好股票？要回答这个问题，先要把最简单的问题说清楚。炒股就是低买高卖，实现获利。那么好股票的标准就是在你的习惯持股周期内，**波动最大的股票**。这很好理解吧，波动最大，我们才有可能在相对低点买入，在相对高点卖出，获利最大。\n",
    "\n",
    "在一定的时间周期内，**衡量股票波动的指标定义为 最高价/最低价**。以我们表格中的数据，就是 ceiling_price/floor_price。这个比率最大的股票就是好股票。\n",
    "\n",
    "关于时间周期，这个和个人的炒股习惯有关。有些人习惯做短线，可能就持股几天，或一两周。有些人习惯做长线，可能持股时长以年计算。这个完全是个人喜好问题。\n",
    "\n",
    "有了这个思路，我们就可以玩转已经转换为日交易数据的股票，选出近期波动最大的股票。假设我们的目标是**选出一个月内波动最大的股票**。我们看一下如何用 pandas 实现这个目标。"
   ]
  },
  {
   "cell_type": "markdown",
   "metadata": {},
   "source": [
    "### 过滤数据\n",
    "\n",
    "我们先要按照考查周期来过滤数据。为了简单起见，我们假设一个月是22个交易日，且只计算交易时间，不计算停牌时间。"
   ]
  },
  {
   "cell_type": "code",
   "execution_count": 11,
   "metadata": {
    "collapsed": false
   },
   "outputs": [
    {
     "data": {
      "text/plain": [
       "239"
      ]
     },
     "execution_count": 11,
     "metadata": {},
     "output_type": "execute_result"
    }
   ],
   "source": [
    "len(day)"
   ]
  },
  {
   "cell_type": "code",
   "execution_count": null,
   "metadata": {
    "collapsed": true
   },
   "outputs": [],
   "source": []
  }
 ],
 "metadata": {
  "kernelspec": {
   "display_name": "Python 2",
   "language": "python",
   "name": "python2"
  },
  "language_info": {
   "codemirror_mode": {
    "name": "ipython",
    "version": 2
   },
   "file_extension": ".py",
   "mimetype": "text/x-python",
   "name": "python",
   "nbconvert_exporter": "python",
   "pygments_lexer": "ipython2",
   "version": "2.7.10"
  }
 },
 "nbformat": 4,
 "nbformat_minor": 0
}
